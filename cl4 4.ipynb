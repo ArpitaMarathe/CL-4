{
 "cells": [
  {
   "cell_type": "code",
   "execution_count": 1,
   "id": "626c0763",
   "metadata": {},
   "outputs": [
    {
     "name": "stdout",
     "output_type": "stream",
     "text": [
      "Training Accuracy: 0.9666666666666667\n",
      "Testing Accuracy: 1.0\n",
      "Classification Report on Test Data:\n",
      "              precision    recall  f1-score   support\n",
      "\n",
      "           0       1.00      1.00      1.00        10\n",
      "           1       1.00      1.00      1.00         9\n",
      "           2       1.00      1.00      1.00        11\n",
      "\n",
      "    accuracy                           1.00        30\n",
      "   macro avg       1.00      1.00      1.00        30\n",
      "weighted avg       1.00      1.00      1.00        30\n",
      "\n"
     ]
    }
   ],
   "source": [
    "from sklearn.datasets import load_iris \n",
    "from sklearn.model_selection import train_test_split \n",
    "from sklearn.preprocessing import StandardScaler \n",
    "from sklearn.linear_model import LogisticRegression \n",
    "from sklearn.metrics import accuracy_score, classification_report \n",
    "\n",
    "iris = load_iris() \n",
    "\n",
    "X = iris.data \n",
    "\n",
    "y = iris.target \n",
    " \n",
    "X_train, X_test, y_train, y_test = train_test_split(X, y, test_size=0.2, random_state=42) \n",
    "\n",
    "scaler = StandardScaler() \n",
    "X_train_scaled = scaler.fit_transform(X_train) \n",
    "X_test_scaled = scaler.transform(X_test) \n",
    "\n",
    "logreg = LogisticRegression() \n",
    "logreg.fit(X_train_scaled, y_train) \n",
    " \n",
    "y_pred_train = logreg.predict(X_train_scaled) \n",
    "y_pred_test = logreg.predict(X_test_scaled) \n",
    "\n",
    "train_accuracy = accuracy_score(y_train, y_pred_train) \n",
    "test_accuracy = accuracy_score(y_test, y_pred_test) \n",
    "print(\"Training Accuracy:\", train_accuracy) \n",
    "print(\"Testing Accuracy:\", test_accuracy) \n",
    "\n",
    "print(\"Classification Report on Test Data:\") \n",
    "print(classification_report(y_test, y_pred_test))"
   ]
  },
  {
   "cell_type": "code",
   "execution_count": null,
   "id": "0dd10e9a",
   "metadata": {},
   "outputs": [],
   "source": []
  }
 ],
 "metadata": {
  "kernelspec": {
   "display_name": "Python 3 (ipykernel)",
   "language": "python",
   "name": "python3"
  },
  "language_info": {
   "codemirror_mode": {
    "name": "ipython",
    "version": 3
   },
   "file_extension": ".py",
   "mimetype": "text/x-python",
   "name": "python",
   "nbconvert_exporter": "python",
   "pygments_lexer": "ipython3",
   "version": "3.9.12"
  }
 },
 "nbformat": 4,
 "nbformat_minor": 5
}
