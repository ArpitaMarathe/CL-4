{
 "cells": [
  {
   "cell_type": "code",
   "execution_count": 8,
   "id": "8c9eb672",
   "metadata": {},
   "outputs": [
    {
     "name": "stdout",
     "output_type": "stream",
     "text": [
      "The word 'arpita' appears 1 times.\n"
     ]
    }
   ],
   "source": [
    "def map_reduce(file_path, target_word): \n",
    " word_count = 0 \n",
    " with open(file_path, 'r') as file: \n",
    "     mapped_data = [(word.lower(), 1) for line in file for word in line.strip().split()] \n",
    " \n",
    " \n",
    " for word, count in mapped_data: \n",
    "     if word == target_word.lower(): \n",
    "         word_count += count \n",
    " \n",
    " return word_count  \n",
    "file_path = 'C:/Users/hp/OneDrive/Arpita/Desktop/abc.txt' \n",
    "target_word = \"arpita\" \n",
    "\n",
    "frequency = map_reduce(file_path, target_word)\n",
    "print(f\"The word '{target_word}' appears {frequency} times.\")\n"
   ]
  },
  {
   "cell_type": "code",
   "execution_count": null,
   "id": "30a98026",
   "metadata": {},
   "outputs": [],
   "source": []
  }
 ],
 "metadata": {
  "kernelspec": {
   "display_name": "Python 3 (ipykernel)",
   "language": "python",
   "name": "python3"
  },
  "language_info": {
   "codemirror_mode": {
    "name": "ipython",
    "version": 3
   },
   "file_extension": ".py",
   "mimetype": "text/x-python",
   "name": "python",
   "nbconvert_exporter": "python",
   "pygments_lexer": "ipython3",
   "version": "3.9.12"
  }
 },
 "nbformat": 4,
 "nbformat_minor": 5
}
